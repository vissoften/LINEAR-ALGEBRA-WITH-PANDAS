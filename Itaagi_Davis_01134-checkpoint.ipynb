{
 "cells": [
  {
   "cell_type": "code",
   "execution_count": 3,
   "id": "d5205cc5",
   "metadata": {},
   "outputs": [],
   "source": [
    "import pandas as pd"
   ]
  },
  {
   "cell_type": "code",
   "execution_count": 4,
   "id": "6c6dca99",
   "metadata": {},
   "outputs": [],
   "source": [
    "dt = pd.read_csv(\"C:\\\\Users\\\\DAVIS\\\\Desktop\\\\Pandas\\\\loan_amount.csv\")"
   ]
  },
  {
   "cell_type": "code",
   "execution_count": 5,
   "id": "d1832b16",
   "metadata": {},
   "outputs": [
    {
     "data": {
      "text/html": [
       "<div>\n",
       "<style scoped>\n",
       "    .dataframe tbody tr th:only-of-type {\n",
       "        vertical-align: middle;\n",
       "    }\n",
       "\n",
       "    .dataframe tbody tr th {\n",
       "        vertical-align: top;\n",
       "    }\n",
       "\n",
       "    .dataframe thead th {\n",
       "        text-align: right;\n",
       "    }\n",
       "</style>\n",
       "<table border=\"1\" class=\"dataframe\">\n",
       "  <thead>\n",
       "    <tr style=\"text-align: right;\">\n",
       "      <th></th>\n",
       "      <th>Gender</th>\n",
       "      <th>ApplicantIncome</th>\n",
       "      <th>CoapplicantIncome</th>\n",
       "      <th>LoanAmount</th>\n",
       "    </tr>\n",
       "  </thead>\n",
       "  <tbody>\n",
       "    <tr>\n",
       "      <th>0</th>\n",
       "      <td>Male</td>\n",
       "      <td>5720</td>\n",
       "      <td>0</td>\n",
       "      <td>110.0</td>\n",
       "    </tr>\n",
       "    <tr>\n",
       "      <th>1</th>\n",
       "      <td>Male</td>\n",
       "      <td>3076</td>\n",
       "      <td>1500</td>\n",
       "      <td>126.0</td>\n",
       "    </tr>\n",
       "    <tr>\n",
       "      <th>2</th>\n",
       "      <td>Male</td>\n",
       "      <td>5000</td>\n",
       "      <td>1800</td>\n",
       "      <td>208.0</td>\n",
       "    </tr>\n",
       "    <tr>\n",
       "      <th>3</th>\n",
       "      <td>Male</td>\n",
       "      <td>2340</td>\n",
       "      <td>2546</td>\n",
       "      <td>100.0</td>\n",
       "    </tr>\n",
       "    <tr>\n",
       "      <th>4</th>\n",
       "      <td>Male</td>\n",
       "      <td>3276</td>\n",
       "      <td>0</td>\n",
       "      <td>78.0</td>\n",
       "    </tr>\n",
       "  </tbody>\n",
       "</table>\n",
       "</div>"
      ],
      "text/plain": [
       "  Gender  ApplicantIncome  CoapplicantIncome  LoanAmount\n",
       "0   Male             5720                  0       110.0\n",
       "1   Male             3076               1500       126.0\n",
       "2   Male             5000               1800       208.0\n",
       "3   Male             2340               2546       100.0\n",
       "4   Male             3276                  0        78.0"
      ]
     },
     "execution_count": 5,
     "metadata": {},
     "output_type": "execute_result"
    }
   ],
   "source": [
    "dt.head()"
   ]
  },
  {
   "cell_type": "code",
   "execution_count": 6,
   "id": "5d0bffe2",
   "metadata": {},
   "outputs": [
    {
     "data": {
      "text/html": [
       "<div>\n",
       "<style scoped>\n",
       "    .dataframe tbody tr th:only-of-type {\n",
       "        vertical-align: middle;\n",
       "    }\n",
       "\n",
       "    .dataframe tbody tr th {\n",
       "        vertical-align: top;\n",
       "    }\n",
       "\n",
       "    .dataframe thead th {\n",
       "        text-align: right;\n",
       "    }\n",
       "</style>\n",
       "<table border=\"1\" class=\"dataframe\">\n",
       "  <thead>\n",
       "    <tr style=\"text-align: right;\">\n",
       "      <th></th>\n",
       "      <th>Gender</th>\n",
       "      <th>ApplicantIncome</th>\n",
       "      <th>CoapplicantIncome</th>\n",
       "      <th>LoanAmount</th>\n",
       "    </tr>\n",
       "  </thead>\n",
       "  <tbody>\n",
       "    <tr>\n",
       "      <th>362</th>\n",
       "      <td>Male</td>\n",
       "      <td>4009</td>\n",
       "      <td>1777</td>\n",
       "      <td>113.0</td>\n",
       "    </tr>\n",
       "    <tr>\n",
       "      <th>363</th>\n",
       "      <td>Male</td>\n",
       "      <td>4158</td>\n",
       "      <td>709</td>\n",
       "      <td>115.0</td>\n",
       "    </tr>\n",
       "    <tr>\n",
       "      <th>364</th>\n",
       "      <td>Male</td>\n",
       "      <td>3250</td>\n",
       "      <td>1993</td>\n",
       "      <td>126.0</td>\n",
       "    </tr>\n",
       "    <tr>\n",
       "      <th>365</th>\n",
       "      <td>Male</td>\n",
       "      <td>5000</td>\n",
       "      <td>2393</td>\n",
       "      <td>158.0</td>\n",
       "    </tr>\n",
       "    <tr>\n",
       "      <th>366</th>\n",
       "      <td>Male</td>\n",
       "      <td>9200</td>\n",
       "      <td>0</td>\n",
       "      <td>98.0</td>\n",
       "    </tr>\n",
       "  </tbody>\n",
       "</table>\n",
       "</div>"
      ],
      "text/plain": [
       "    Gender  ApplicantIncome  CoapplicantIncome  LoanAmount\n",
       "362   Male             4009               1777       113.0\n",
       "363   Male             4158                709       115.0\n",
       "364   Male             3250               1993       126.0\n",
       "365   Male             5000               2393       158.0\n",
       "366   Male             9200                  0        98.0"
      ]
     },
     "execution_count": 6,
     "metadata": {},
     "output_type": "execute_result"
    }
   ],
   "source": [
    "dt.tail()"
   ]
  },
  {
   "cell_type": "code",
   "execution_count": 7,
   "id": "e37c2593",
   "metadata": {},
   "outputs": [],
   "source": [
    "loan_amount = dt[dt['Gender'] == 'Male'][: 100]"
   ]
  },
  {
   "cell_type": "code",
   "execution_count": 8,
   "id": "a7ac1ed0",
   "metadata": {
    "scrolled": true
   },
   "outputs": [
    {
     "data": {
      "text/html": [
       "<div>\n",
       "<style scoped>\n",
       "    .dataframe tbody tr th:only-of-type {\n",
       "        vertical-align: middle;\n",
       "    }\n",
       "\n",
       "    .dataframe tbody tr th {\n",
       "        vertical-align: top;\n",
       "    }\n",
       "\n",
       "    .dataframe thead th {\n",
       "        text-align: right;\n",
       "    }\n",
       "</style>\n",
       "<table border=\"1\" class=\"dataframe\">\n",
       "  <thead>\n",
       "    <tr style=\"text-align: right;\">\n",
       "      <th></th>\n",
       "      <th>Gender</th>\n",
       "      <th>ApplicantIncome</th>\n",
       "      <th>CoapplicantIncome</th>\n",
       "      <th>LoanAmount</th>\n",
       "    </tr>\n",
       "  </thead>\n",
       "  <tbody>\n",
       "    <tr>\n",
       "      <th>0</th>\n",
       "      <td>Male</td>\n",
       "      <td>5720</td>\n",
       "      <td>0</td>\n",
       "      <td>110.0</td>\n",
       "    </tr>\n",
       "    <tr>\n",
       "      <th>1</th>\n",
       "      <td>Male</td>\n",
       "      <td>3076</td>\n",
       "      <td>1500</td>\n",
       "      <td>126.0</td>\n",
       "    </tr>\n",
       "    <tr>\n",
       "      <th>2</th>\n",
       "      <td>Male</td>\n",
       "      <td>5000</td>\n",
       "      <td>1800</td>\n",
       "      <td>208.0</td>\n",
       "    </tr>\n",
       "    <tr>\n",
       "      <th>3</th>\n",
       "      <td>Male</td>\n",
       "      <td>2340</td>\n",
       "      <td>2546</td>\n",
       "      <td>100.0</td>\n",
       "    </tr>\n",
       "    <tr>\n",
       "      <th>4</th>\n",
       "      <td>Male</td>\n",
       "      <td>3276</td>\n",
       "      <td>0</td>\n",
       "      <td>78.0</td>\n",
       "    </tr>\n",
       "    <tr>\n",
       "      <th>...</th>\n",
       "      <td>...</td>\n",
       "      <td>...</td>\n",
       "      <td>...</td>\n",
       "      <td>...</td>\n",
       "    </tr>\n",
       "    <tr>\n",
       "      <th>120</th>\n",
       "      <td>Male</td>\n",
       "      <td>3125</td>\n",
       "      <td>0</td>\n",
       "      <td>65.0</td>\n",
       "    </tr>\n",
       "    <tr>\n",
       "      <th>121</th>\n",
       "      <td>Male</td>\n",
       "      <td>2333</td>\n",
       "      <td>3803</td>\n",
       "      <td>146.0</td>\n",
       "    </tr>\n",
       "    <tr>\n",
       "      <th>122</th>\n",
       "      <td>Male</td>\n",
       "      <td>3350</td>\n",
       "      <td>1560</td>\n",
       "      <td>135.0</td>\n",
       "    </tr>\n",
       "    <tr>\n",
       "      <th>123</th>\n",
       "      <td>Male</td>\n",
       "      <td>2500</td>\n",
       "      <td>6414</td>\n",
       "      <td>187.0</td>\n",
       "    </tr>\n",
       "    <tr>\n",
       "      <th>125</th>\n",
       "      <td>Male</td>\n",
       "      <td>4667</td>\n",
       "      <td>0</td>\n",
       "      <td>120.0</td>\n",
       "    </tr>\n",
       "  </tbody>\n",
       "</table>\n",
       "<p>100 rows × 4 columns</p>\n",
       "</div>"
      ],
      "text/plain": [
       "    Gender  ApplicantIncome  CoapplicantIncome  LoanAmount\n",
       "0     Male             5720                  0       110.0\n",
       "1     Male             3076               1500       126.0\n",
       "2     Male             5000               1800       208.0\n",
       "3     Male             2340               2546       100.0\n",
       "4     Male             3276                  0        78.0\n",
       "..     ...              ...                ...         ...\n",
       "120   Male             3125                  0        65.0\n",
       "121   Male             2333               3803       146.0\n",
       "122   Male             3350               1560       135.0\n",
       "123   Male             2500               6414       187.0\n",
       "125   Male             4667                  0       120.0\n",
       "\n",
       "[100 rows x 4 columns]"
      ]
     },
     "execution_count": 8,
     "metadata": {},
     "output_type": "execute_result"
    }
   ],
   "source": [
    "loan_amount"
   ]
  },
  {
   "cell_type": "code",
   "execution_count": 9,
   "id": "0cef6673",
   "metadata": {},
   "outputs": [],
   "source": [
    "#All the money iis in $, \n",
    "#$1= Ugx300\n"
   ]
  },
  {
   "cell_type": "code",
   "execution_count": 10,
   "id": "da5edf17",
   "metadata": {},
   "outputs": [],
   "source": [
    "dt['ApplicantIncome'] = dt['ApplicantIncome'].apply(lambda x: x*300)"
   ]
  },
  {
   "cell_type": "code",
   "execution_count": 11,
   "id": "54e1c9b6",
   "metadata": {},
   "outputs": [],
   "source": [
    "dt['LoanAmount'] = dt['LoanAmount'].apply(lambda x: x*300)"
   ]
  },
  {
   "cell_type": "code",
   "execution_count": 12,
   "id": "5fb2fa0b",
   "metadata": {},
   "outputs": [],
   "source": [
    "dt['CoapplicantIncome'] = dt['CoapplicantIncome'].apply(lambda x: x*300)"
   ]
  },
  {
   "cell_type": "code",
   "execution_count": 13,
   "id": "56f42c0f",
   "metadata": {},
   "outputs": [
    {
     "data": {
      "text/html": [
       "<div>\n",
       "<style scoped>\n",
       "    .dataframe tbody tr th:only-of-type {\n",
       "        vertical-align: middle;\n",
       "    }\n",
       "\n",
       "    .dataframe tbody tr th {\n",
       "        vertical-align: top;\n",
       "    }\n",
       "\n",
       "    .dataframe thead th {\n",
       "        text-align: right;\n",
       "    }\n",
       "</style>\n",
       "<table border=\"1\" class=\"dataframe\">\n",
       "  <thead>\n",
       "    <tr style=\"text-align: right;\">\n",
       "      <th></th>\n",
       "      <th>Gender</th>\n",
       "      <th>ApplicantIncome</th>\n",
       "      <th>CoapplicantIncome</th>\n",
       "      <th>LoanAmount</th>\n",
       "    </tr>\n",
       "  </thead>\n",
       "  <tbody>\n",
       "    <tr>\n",
       "      <th>0</th>\n",
       "      <td>Male</td>\n",
       "      <td>1716000</td>\n",
       "      <td>0</td>\n",
       "      <td>33000.0</td>\n",
       "    </tr>\n",
       "    <tr>\n",
       "      <th>1</th>\n",
       "      <td>Male</td>\n",
       "      <td>922800</td>\n",
       "      <td>450000</td>\n",
       "      <td>37800.0</td>\n",
       "    </tr>\n",
       "    <tr>\n",
       "      <th>2</th>\n",
       "      <td>Male</td>\n",
       "      <td>1500000</td>\n",
       "      <td>540000</td>\n",
       "      <td>62400.0</td>\n",
       "    </tr>\n",
       "    <tr>\n",
       "      <th>3</th>\n",
       "      <td>Male</td>\n",
       "      <td>702000</td>\n",
       "      <td>763800</td>\n",
       "      <td>30000.0</td>\n",
       "    </tr>\n",
       "    <tr>\n",
       "      <th>4</th>\n",
       "      <td>Male</td>\n",
       "      <td>982800</td>\n",
       "      <td>0</td>\n",
       "      <td>23400.0</td>\n",
       "    </tr>\n",
       "    <tr>\n",
       "      <th>...</th>\n",
       "      <td>...</td>\n",
       "      <td>...</td>\n",
       "      <td>...</td>\n",
       "      <td>...</td>\n",
       "    </tr>\n",
       "    <tr>\n",
       "      <th>362</th>\n",
       "      <td>Male</td>\n",
       "      <td>1202700</td>\n",
       "      <td>533100</td>\n",
       "      <td>33900.0</td>\n",
       "    </tr>\n",
       "    <tr>\n",
       "      <th>363</th>\n",
       "      <td>Male</td>\n",
       "      <td>1247400</td>\n",
       "      <td>212700</td>\n",
       "      <td>34500.0</td>\n",
       "    </tr>\n",
       "    <tr>\n",
       "      <th>364</th>\n",
       "      <td>Male</td>\n",
       "      <td>975000</td>\n",
       "      <td>597900</td>\n",
       "      <td>37800.0</td>\n",
       "    </tr>\n",
       "    <tr>\n",
       "      <th>365</th>\n",
       "      <td>Male</td>\n",
       "      <td>1500000</td>\n",
       "      <td>717900</td>\n",
       "      <td>47400.0</td>\n",
       "    </tr>\n",
       "    <tr>\n",
       "      <th>366</th>\n",
       "      <td>Male</td>\n",
       "      <td>2760000</td>\n",
       "      <td>0</td>\n",
       "      <td>29400.0</td>\n",
       "    </tr>\n",
       "  </tbody>\n",
       "</table>\n",
       "<p>367 rows × 4 columns</p>\n",
       "</div>"
      ],
      "text/plain": [
       "    Gender  ApplicantIncome  CoapplicantIncome  LoanAmount\n",
       "0     Male          1716000                  0     33000.0\n",
       "1     Male           922800             450000     37800.0\n",
       "2     Male          1500000             540000     62400.0\n",
       "3     Male           702000             763800     30000.0\n",
       "4     Male           982800                  0     23400.0\n",
       "..     ...              ...                ...         ...\n",
       "362   Male          1202700             533100     33900.0\n",
       "363   Male          1247400             212700     34500.0\n",
       "364   Male           975000             597900     37800.0\n",
       "365   Male          1500000             717900     47400.0\n",
       "366   Male          2760000                  0     29400.0\n",
       "\n",
       "[367 rows x 4 columns]"
      ]
     },
     "execution_count": 13,
     "metadata": {},
     "output_type": "execute_result"
    }
   ],
   "source": [
    "dt"
   ]
  },
  {
   "cell_type": "code",
   "execution_count": 14,
   "id": "59a14c76",
   "metadata": {},
   "outputs": [],
   "source": [
    "#We convert the data to lists ansd use it to plot the graph"
   ]
  },
  {
   "cell_type": "code",
   "execution_count": 15,
   "id": "35af10e3",
   "metadata": {},
   "outputs": [],
   "source": [
    "app_list = loan_amount['ApplicantIncome'].tolist()\n",
    "loan_list = loan_amount['LoanAmount'].tolist()\n"
   ]
  },
  {
   "cell_type": "code",
   "execution_count": 16,
   "id": "bcd941ea",
   "metadata": {},
   "outputs": [
    {
     "data": {
      "text/plain": [
       "[5720, 3076, 5000, 2340, 3276, 2165, 3881, 13633, 2400, 3091]"
      ]
     },
     "execution_count": 16,
     "metadata": {},
     "output_type": "execute_result"
    }
   ],
   "source": [
    "app_list[:10]"
   ]
  },
  {
   "cell_type": "code",
   "execution_count": 17,
   "id": "d39596e9",
   "metadata": {},
   "outputs": [],
   "source": [
    "#To plot the graph of Applicant Icome  against Loan amount, wer need to define a function that will accept two inputs \n",
    "#of Apllicant income and loan amount and return their respective values.\n"
   ]
  },
  {
   "cell_type": "code",
   "execution_count": 18,
   "id": "9980265f",
   "metadata": {},
   "outputs": [],
   "source": [
    "def line_of_best_fit(xs,ys):\n",
    "    slope = (((mean(xs)*mean(ys)) - mean(xs*ys))/(mean(xs)*mean(xs) - mean(xs*xs)))\n",
    "    y_intercept = mean(ys) - slope*mean(xs)\n",
    "    return slope, y_intercept\n"
   ]
  },
  {
   "cell_type": "code",
   "execution_count": 19,
   "id": "735ac63e",
   "metadata": {},
   "outputs": [],
   "source": [
    "#import numpy\n",
    "import numpy as np"
   ]
  },
  {
   "cell_type": "code",
   "execution_count": 20,
   "id": "4dcf8cd5",
   "metadata": {},
   "outputs": [],
   "source": [
    "xs = np.array(app_list, dtype = np.float64)\n",
    "ys = np.array(app_list, dtype = np.float64)"
   ]
  },
  {
   "cell_type": "code",
   "execution_count": 21,
   "id": "58674c4b",
   "metadata": {},
   "outputs": [
    {
     "data": {
      "text/plain": [
       "array([ 5720.,  3076.,  5000.,  2340.,  3276.,  2165.,  3881., 13633.,\n",
       "        2400.,  3091.,  2185.,  4166., 12173.,  5667.,  4583.,  3786.,\n",
       "        9226.,  1300.,  1888.,  5400.,     0.,  4363.,  7500.,  3772.,\n",
       "        2942.,  6250.,  3268.,  2783.,  2740.,  3150.,  7350.,  2267.,\n",
       "        5833.,  3643.,  5629.,  1750.,  6500.,  4260.,  4163.,  2356.,\n",
       "        6792.,  8000.,  2419.,  3500.,  4116.,  5293.,  2750.,  3613.,\n",
       "        4720.,  2415.,  7016.,  4490.,  2917.,  4700.,  3445.,  7666.,\n",
       "        2458.,  4463.,  4083.,  3900.,  4750.,  3583.,  3189.,  6356.,\n",
       "        3413.,  3829., 72529.,  4136.,  8449.,  4456.,  4635.,  3571.,\n",
       "        3066.,  3235.,  3188., 13518.,  4364.,  4766.,  4609.,  3333.,\n",
       "        3500.,  9719.,  6835.,  4452.,  3901.,  2687.,  2243.,  4513.,\n",
       "        4500.,  4523.,  4082.,  4167.,  4243.,  1516.,   724.,  3125.,\n",
       "        2333.,  3350.,  2500.,  4667.])"
      ]
     },
     "execution_count": 21,
     "metadata": {},
     "output_type": "execute_result"
    }
   ],
   "source": [
    "ys"
   ]
  },
  {
   "cell_type": "code",
   "execution_count": 22,
   "id": "5c299eea",
   "metadata": {},
   "outputs": [],
   "source": [
    "xs = np.array(app_list, dtype = np.float64) \n",
    "ys = np.array(loan_list, dtype = np.float64)"
   ]
  },
  {
   "cell_type": "code",
   "execution_count": null,
   "id": "10d2a2e0",
   "metadata": {},
   "outputs": [],
   "source": []
  },
  {
   "cell_type": "code",
   "execution_count": 23,
   "id": "a0a4e683",
   "metadata": {},
   "outputs": [
    {
     "data": {
      "image/png": "[encoded data removed]",
      "text/plain": [
       "<Figure size 640x480 with 1 Axes>"
      ]
     },
     "metadata": {},
     "output_type": "display_data"
    }
   ],
   "source": [
    "import seaborn as sns\n",
    "import matplotlib.pyplot as plt\n",
    "\n",
    "# Create a bar graph using Seaborn\n",
    "sns.barplot(x=xs, y=ys)\n",
    "\n",
    "# Customize the plot (optional)\n",
    "plt.xlabel(\"X-axis\")\n",
    "plt.ylabel(\"Y-axis\")\n",
    "plt.title(\"Bar Graph\")\n",
    "plt.show()"
   ]
  },
  {
   "cell_type": "code",
   "execution_count": 24,
   "id": "4c8b3dff",
   "metadata": {},
   "outputs": [],
   "source": [
    "import matplotlib.pyplot as plt\n",
    "from matplotlib import style\n",
    "from statistics import mean\n",
    "import numpy as np"
   ]
  },
  {
   "cell_type": "code",
   "execution_count": null,
   "id": "1ab89407",
   "metadata": {},
   "outputs": [],
   "source": []
  },
  {
   "cell_type": "code",
   "execution_count": null,
   "id": "ccb0eab8",
   "metadata": {},
   "outputs": [],
   "source": []
  },
  {
   "cell_type": "code",
   "execution_count": 25,
   "id": "d6330f21",
   "metadata": {},
   "outputs": [
    {
     "data": {
      "image/png": "[encoded data removed]",
      "text/plain": [
       "<Figure size 640x480 with 1 Axes>"
      ]
     },
     "metadata": {},
     "output_type": "display_data"
    }
   ],
   "source": [
    "import seaborn as sns\n",
    "\n",
    "# Create the scatter plot with Seaborn style\n",
    "sns.scatterplot(x=xs, y=ys)\n",
    "\n",
    "# Show the plot\n",
    "plt.show()\n"
   ]
  },
  {
   "cell_type": "code",
   "execution_count": null,
   "id": "b4be9458",
   "metadata": {},
   "outputs": [],
   "source": []
  },
  {
   "cell_type": "code",
   "execution_count": null,
   "id": "9d0d1a6c",
   "metadata": {},
   "outputs": [],
   "source": []
  }
 ],
 "metadata": {
  "kernelspec": {
   "display_name": "Python 3 (ipykernel)",
   "language": "python",
   "name": "python3"
  },
  "language_info": {
   "codemirror_mode": {
    "name": "ipython",
    "version": 3
   },
   "file_extension": ".py",
   "mimetype": "text/x-python",
   "name": "python",
   "nbconvert_exporter": "python",
   "pygments_lexer": "ipython3",
   "version": "3.11.5"
  }
 },
 "nbformat": 4,
 "nbformat_minor": 5
}
